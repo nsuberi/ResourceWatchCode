{
 "cells": [
  {
   "cell_type": "markdown",
   "metadata": {},
   "source": [
    "# Import Libraries"
   ]
  },
  {
   "cell_type": "code",
   "execution_count": 1,
   "metadata": {
    "collapsed": true
   },
   "outputs": [],
   "source": [
    "# Data fetching library\n",
    "import requests as req\n",
    "# used below: 'res' stands for 'response'\n",
    "\n",
    "# File management library\n",
    "import os\n",
    "\n",
    "# Configure logging library\n",
    "import logging\n",
    "import sys\n",
    "logging.basicConfig(stream=sys.stderr, level=logging.INFO)\n",
    "\n",
    "# Data manipulation libraries\n",
    "import pandas as pd\n",
    "pd.options.display.max_rows = 1000\n",
    "pd.options.display.max_columns = 1000\n",
    "import json\n",
    "from datetime import datetime\n",
    "\n",
    "# Data analysis libraries\n",
    "from sklearn import linear_model\n",
    "from sklearn import metrics\n",
    "from sklearn.model_selection import train_test_split\n",
    "\n",
    "# Uploading results to Carto\n",
    "import cartoframes\n",
    "\n",
    "# Data visualization library\n",
    "## Uses Vega-Lite, which can be easily put in websites\n",
    "from vega3 import Vega\n",
    "import matplotlib.pyplot as plt\n",
    "%matplotlib inline"
   ]
  },
  {
   "cell_type": "markdown",
   "metadata": {},
   "source": [
    "# Load Data from RW API"
   ]
  },
  {
   "cell_type": "code",
   "execution_count": null,
   "metadata": {
    "collapsed": false
   },
   "outputs": [],
   "source": [
    "# Base URL for getting dataset metadata from RW API\n",
    "url = \"https://api.resourcewatch.org/v1/dataset?sort=slug,-provider,userId&status=saved&published=true&includes=metadata,vocabulary,widget,layer\"\n",
    "\n",
    "# page[size] tells the API the maximum number of results to send back\n",
    "# There are currently between 200 and 300 datasets on the RW API\n",
    "payload = { \"application\":\"rw\", \"page[size]\": 1000}\n",
    "\n",
    "# Request all datasets, and extract the data from the response\n",
    "res = req.get(url, params=payload)\n",
    "data = res.json()[\"data\"]\n",
    "\n",
    "### Convert the json object returned by the API into a pandas DataFrame\n",
    "# Another option: https://pandas.pydata.org/pandas-docs/stable/generated/pandas.io.json.json_normalize.html\n",
    "datasets_on_api = {}\n",
    "for ix, dset in enumerate(data):\n",
    "    atts = dset[\"attributes\"]\n",
    "    metadata = atts[\"metadata\"]\n",
    "    layers = atts[\"layer\"]\n",
    "    widgets = atts[\"widget\"]\n",
    "    tags = atts[\"vocabulary\"]\n",
    "    datasets_on_api[dset[\"id\"]] = {\n",
    "        \"name\":atts[\"name\"],\n",
    "        \"table_name\":atts[\"tableName\"],\n",
    "        \"provider\":atts[\"provider\"],\n",
    "        \"date_updated\":atts[\"updatedAt\"],\n",
    "        \"num_metadata\":len(metadata),\n",
    "        \"metadata\": metadata,\n",
    "        \"num_layers\":len(layers),\n",
    "        \"layers\": layers,\n",
    "        \"num_widgets\":len(widgets),\n",
    "        \"widgets\": widgets,\n",
    "        \"num_tags\":len(tags),\n",
    "        \"tags\":tags\n",
    "    }\n",
    "\n",
    "# Create the DataFrame, name the index, and sort by date_updated\n",
    "# More recently updated datasets at the top\n",
    "current_datasets_on_api = pd.DataFrame.from_dict(datasets_on_api, orient='index')\n",
    "current_datasets_on_api.index.rename(\"Dataset\", inplace=True)\n",
    "current_datasets_on_api.sort_values(by=[\"date_updated\"], inplace=True, ascending = False)\n",
    "\n",
    "# Select all Carto datasets on the API:\n",
    "provider = \"cartodb\"\n",
    "carto_ids = (current_datasets_on_api[\"provider\"]==provider)\n",
    "carto_data = current_datasets_on_api.loc[carto_ids]\n",
    "\n",
    "logging.info(\"Number of Carto datasets: \" + str(carto_data.shape[0]))"
   ]
  },
  {
   "cell_type": "markdown",
   "metadata": {},
   "source": [
    "# Find data sets to run the analysis with"
   ]
  },
  {
   "cell_type": "code",
   "execution_count": null,
   "metadata": {
    "collapsed": false
   },
   "outputs": [],
   "source": [
    "# Select only national level data sets\n",
    "\n",
    "def pick_spatial_resolution(mdatas):\n",
    "    for mdata in mdatas:\n",
    "        if mdata['attributes']['language'] == 'en':\n",
    "            return mdata['attributes']['info'].get('spatial_resolution', None)\n",
    "\n",
    "def pick_temporal_resolution(mdatas):\n",
    "    for mdata in mdatas:\n",
    "        if mdata['attributes']['language'] == 'en':\n",
    "            return mdata['attributes']['info'].get('frequency_of_updates', None)\n",
    "        \n",
    "carto_data.loc[:,'spatial_resolution'] = list(map(pick_spatial_resolution, carto_data['metadata']))\n",
    "carto_data.loc[:,'temporal_resolution'] = list(map(pick_temporal_resolution, carto_data['metadata']))\n",
    "\n",
    "national_datasets = carto_data[carto_data['spatial_resolution'] == 'National']\n",
    "annual_national_datasets = national_datasets[national_datasets['temporal_resolution'] == 'Annual']\n",
    "\n",
    "logging.info(\"{} annual, national level data sets\".format(annual_national_datasets.shape[0]))\n",
    "annual_national_datasets.shape"
   ]
  },
  {
   "cell_type": "code",
   "execution_count": null,
   "metadata": {
    "collapsed": false
   },
   "outputs": [],
   "source": [
    "# Exclude MaterialFlows as this is handled in another notebook\n",
    "annual_national_datasets.drop('082e2262-c58e-46a0-b6b7-56083cfcbd34', inplace=True)"
   ]
  },
  {
   "cell_type": "markdown",
   "metadata": {},
   "source": [
    "## Find which data sets cover the right years"
   ]
  },
  {
   "cell_type": "markdown",
   "metadata": {},
   "source": [
    "### Find year column"
   ]
  },
  {
   "cell_type": "code",
   "execution_count": null,
   "metadata": {
    "collapsed": true
   },
   "outputs": [],
   "source": [
    "def inquire_columns(info):\n",
    "    ds_id, table_name = info\n",
    "    print(ds_id)\n",
    "    # Template query string used to query RW datasets\n",
    "    q = \"https://api.resourcewatch.org/v1/query/{}?sql=SELECT * FROM {} LIMIT 1\".format(ds_id,table_name)\n",
    "    try:\n",
    "        res = req.get(q).json()['data'][0]\n",
    "        keys = res.keys()\n",
    "        types = [type(val) for key, val in res.items()]\n",
    "        return (keys, types)\n",
    "    except:\n",
    "        return (None, None)\n",
    "    \n",
    "# Collect column names\n",
    "annual_national_datasets.loc[:, 'column_names'], annual_national_datasets.loc[:, 'column_types'] = zip(*list(map(inquire_columns, zip(annual_national_datasets.index,annual_national_datasets['table_name']))))"
   ]
  },
  {
   "cell_type": "code",
   "execution_count": null,
   "metadata": {
    "collapsed": false
   },
   "outputs": [],
   "source": [
    "ix = 3\n",
    "print(annual_national_datasets.iloc[ix]['column_names'])\n",
    "print(annual_national_datasets.iloc[ix]['column_types'])"
   ]
  },
  {
   "cell_type": "code",
   "execution_count": null,
   "metadata": {
    "collapsed": true
   },
   "outputs": [],
   "source": [
    "# Making the choice to only accept datetime and year as column names.\n",
    "# Datetimes will be string timestamps, years will be ints\n",
    "def pick_year_col(column_names):\n",
    "    print(\"Available column names: {}\".format(column_names))\n",
    "    if 'datetime' in column_names:\n",
    "        return 'datetime'\n",
    "    elif 'year' in column_names:\n",
    "        return 'year'\n",
    "    else:\n",
    "        return None\n",
    "        #year_col = input(\"What is the year column called? Type nothing for None\")\n",
    "        #return year_col if year_col else None\n",
    "\n",
    "annual_national_datasets.loc[:, 'year_col'] = list(map(pick_year_col, annual_national_datasets['column_names']))"
   ]
  },
  {
   "cell_type": "code",
   "execution_count": null,
   "metadata": {
    "collapsed": false,
    "scrolled": false
   },
   "outputs": [],
   "source": [
    "annual_national_datasets['year_col']"
   ]
  },
  {
   "cell_type": "markdown",
   "metadata": {},
   "source": [
    "### Find dates covered by each dataset"
   ]
  },
  {
   "cell_type": "code",
   "execution_count": null,
   "metadata": {
    "collapsed": false
   },
   "outputs": [],
   "source": [
    "def try_datetime_conversion_to_year(possible_dt):\n",
    "    DATE_FORMAT = '%Y-%m-%dT%H:%M:%SZ'\n",
    "    try:\n",
    "        return datetime.strptime(possible_dt, DATE_FORMAT).year\n",
    "    except:\n",
    "        return int(possible_dt)\n",
    "\n",
    "def find_years_covered(info):\n",
    "    ds_id, year_col, table_name = info\n",
    "    if year_col:\n",
    "        print(ds_id)\n",
    "        # Template query string used to query RW datasets\n",
    "        q = \"https://api.resourcewatch.org/v1/query/{}?sql=SELECT {} FROM {}\".format(ds_id,year_col,table_name)\n",
    "        print(q)\n",
    "        try:\n",
    "            res = pd.DataFrame(req.get(q).json()['data'])\n",
    "            unique_years = res[year_col].unique()\n",
    "            print(unique_years)\n",
    "            int_years = list(map(try_datetime_conversion_to_year, unique_years))\n",
    "            return sorted(int_years)\n",
    "        except:\n",
    "            return None\n",
    "    else:\n",
    "        return None\n",
    "    \n",
    "annual_national_datasets.loc[:, 'years_covered'] = list(map(find_years_covered, zip(annual_national_datasets.index, annual_national_datasets['year_col'], annual_national_datasets['table_name'])))"
   ]
  },
  {
   "cell_type": "code",
   "execution_count": null,
   "metadata": {
    "collapsed": false
   },
   "outputs": [],
   "source": [
    "annual_national_datasets['years_covered']"
   ]
  },
  {
   "cell_type": "code",
   "execution_count": null,
   "metadata": {
    "collapsed": false
   },
   "outputs": [],
   "source": [
    "def determine_if_analysis_possible(years_covered):\n",
    "    flag = False\n",
    "    try:\n",
    "        if (2000 in years_covered) and (2015 in years_covered):\n",
    "            flag = True\n",
    "    except:\n",
    "        pass\n",
    "    return flag\n",
    "\n",
    "annual_national_datasets.loc[:, 'analysis_possible'] = list(map(determine_if_analysis_possible, annual_national_datasets['years_covered']))"
   ]
  },
  {
   "cell_type": "code",
   "execution_count": null,
   "metadata": {
    "collapsed": false
   },
   "outputs": [],
   "source": [
    "annual_national_datasets['analysis_possible'] "
   ]
  },
  {
   "cell_type": "markdown",
   "metadata": {},
   "source": [
    "### Pick the value column to use"
   ]
  },
  {
   "cell_type": "code",
   "execution_count": null,
   "metadata": {
    "collapsed": false
   },
   "outputs": [],
   "source": [
    "def pick_value_col(info):\n",
    "    analysis_possible = info[0]\n",
    "    column_names = info[1]\n",
    "    if analysis_possible:\n",
    "        print(\"Available column names: {}\".format(column_names))\n",
    "        if 'yr_data' in column_names:\n",
    "            return 'yr_data'\n",
    "        elif 'total_data' in column_names:\n",
    "            return 'total_data'\n",
    "        else:\n",
    "            value_col = input(\"What is the value column called? Type nothing for None\")\n",
    "            return value_col if value_col else None\n",
    "    else:\n",
    "        return None\n",
    "\n",
    "annual_national_datasets.loc[:, 'value_col'] = list(map(pick_value_col, zip(annual_national_datasets['analysis_possible'], annual_national_datasets['column_names'])))"
   ]
  },
  {
   "cell_type": "markdown",
   "metadata": {},
   "source": [
    "### Pick the country column to use"
   ]
  },
  {
   "cell_type": "code",
   "execution_count": null,
   "metadata": {
    "collapsed": false
   },
   "outputs": [],
   "source": [
    "def pick_country_col(column_names):\n",
    "    print(\"Available column names: {}\".format(column_names))\n",
    "    if 'rw_country_code' in column_names:\n",
    "        return 'rw_country_code'\n",
    "    else:\n",
    "        country_col = input(\"What is the country column called? Type nothing for None\")\n",
    "        return country_col if country_col else None\n",
    "\n",
    "annual_national_datasets.loc[:, 'country_col'] = list(map(pick_country_col, annual_national_datasets['column_names']))"
   ]
  },
  {
   "cell_type": "markdown",
   "metadata": {},
   "source": [
    "### Preview datasets to run analysis with"
   ]
  },
  {
   "cell_type": "code",
   "execution_count": null,
   "metadata": {
    "collapsed": false
   },
   "outputs": [],
   "source": [
    "analyse_these = annual_national_datasets[annual_national_datasets['analysis_possible']==True]\n",
    "\n",
    "analyse_these"
   ]
  },
  {
   "cell_type": "markdown",
   "metadata": {},
   "source": [
    "# Run the analysis"
   ]
  },
  {
   "cell_type": "code",
   "execution_count": null,
   "metadata": {
    "collapsed": true
   },
   "outputs": [],
   "source": [
    "def run_linear_regressions(datax, xyear, xval_col, xcountry_col, xname,\n",
    "                           datay_from_rwapi, ystartyear, yendyear,\n",
    "                           test_size):\n",
    "    ''' \n",
    "    Inputs: Data and needed column names\n",
    "    Outputs: square matrix of regression coefficients for each indicator\n",
    "    '''\n",
    "    \n",
    "    #datay_from_rw_api\n",
    "    #yprod_col, yflow_col,yyear_col, yval_col,ycountry_col,\n",
    "    \n",
    "    # Result will be an upper right triangular square matrix in 4 dimensions\n",
    "    results = {}    \n",
    "    \n",
    "    all_countries = datax[xcountry_col].unique()\n",
    "    msg = \"regressing GHG-GDP Divergence Index against {}\"\n",
    "    q_yr = \"https://api.resourcewatch.org/v1/query/{}?sql=SELECT {}, {} FROM {} WHERE {}={}\"#.format(ds_id,value_col,country_col,table_name,year_col,target_year)\n",
    "    q_dt = \"https://api.resourcewatch.org/v1/query/{}?sql=SELECT {}, {} FROM {} WHERE EXTRACT(year from {})={}\"#.format(ds_id,value_col,country_col,table_name,year_col,target_year)\n",
    "    \n",
    "    for ds in datay_from_rwapi.iterrows():\n",
    "        \n",
    "        ds_id = ds[0]        \n",
    "        table_name = ds[1]['table_name']\n",
    "        year_col = ds[1]['year_col']\n",
    "        value_col = ds[1]['value_col']\n",
    "        country_col = ds[1]['country_col']\n",
    "        \n",
    "        if not (year_col and value_col and country_col and table_name):\n",
    "            results[ds_id] = 'Some missing information'\n",
    "            continue\n",
    "        \n",
    "        logging.info(msg.format(table_name))\n",
    "    \n",
    "        # Extract data\n",
    "        # TO DO: allow for year ranges\n",
    "        data_x = datax.copy()\n",
    "\n",
    "        if year_col == 'datetime':\n",
    "            res = req.get(q_dt.format(ds_id,value_col,country_col,table_name,year_col,ystartyear))\n",
    "        elif year_col == 'year':\n",
    "            res = req.get(q_yr.format(ds_id,value_col,country_col,table_name,year_col,ystartyear))\n",
    "        else:\n",
    "            continue\n",
    "            \n",
    "        try:\n",
    "            data_y_start = pd.DataFrame(res.json()['data'])\n",
    "        except:\n",
    "            print(res.text)\n",
    "            \n",
    "        data_y_start = data_y_start.set_index(country_col)\n",
    "        # Avoid division by 0\n",
    "        data_y_start = data_y_start.loc[data_y_start[value_col] > 0]\n",
    "\n",
    "        if year_col == 'datetime':\n",
    "            res = req.get(q_dt.format(ds_id,value_col,country_col,table_name,year_col,yendyear))\n",
    "        elif year_col == 'year':\n",
    "            res = req.get(q_yr.format(ds_id,value_col,country_col,table_name,year_col,yendyear))\n",
    "        else:\n",
    "            continue\n",
    "        \n",
    "        try:\n",
    "            data_y_end = pd.DataFrame(res.json()['data'])\n",
    "        except:\n",
    "            print(res.text)        \n",
    "            \n",
    "        data_y_end = data_y_end.set_index(country_col)\n",
    "\n",
    "        logging.debug('Start {}'.format(data_y_start.head()))\n",
    "        logging.debug('End {}'.format(data_y_end.head()))\n",
    "\n",
    "        data_y = data_y_end[value_col].div(data_y_start[value_col])\n",
    "        data_y = data_y[pd.notnull(data_y)]\n",
    "        logging.debug('Change percent: {}'.format(data_y.head()))\n",
    "\n",
    "        # Throw away all but intersection of countries\n",
    "        logging.debug('data_x countries: {}'.format(set(data_x[xcountry_col])))\n",
    "        logging.debug('data_y countries: {}'.format(set(data_y.index)))\n",
    "        keep_countries = set(data_x[xcountry_col]) & set(data_y.index)\n",
    "        skipped_countries = [country for country in all_countries if country not in keep_countries]\n",
    "\n",
    "        data_x = data_x.set_index(xcountry_col).loc[keep_countries, xval_col]\n",
    "        data_y = data_y.loc[keep_countries]\n",
    "\n",
    "        # Reshape for regression\n",
    "        data_x_reg = data_x.values.reshape(-1, 1)\n",
    "        data_y_reg = data_y.values.reshape(-1, 1)\n",
    "\n",
    "        if (len(data_x_reg)>test_size) & (len(data_y_reg)>test_size):\n",
    "            pass\n",
    "        else:\n",
    "            results[ds_id] = {\n",
    "                'r_squared': None,\n",
    "                'skipped_countries': skipped_countries\n",
    "            }\n",
    "            continue\n",
    "\n",
    "        # Split for training / test set\n",
    "        X_train, X_test, y_train, y_test = train_test_split(data_x_reg, data_y_reg, \n",
    "                                                            test_size=test_size, random_state=42)\n",
    "\n",
    "        # Run regression\n",
    "        lm = linear_model.LinearRegression() \n",
    "        lm.fit(X_train, y_train)\n",
    "\n",
    "        # Extract coefficient of determination (r^2)\n",
    "        r_squared = lm.score(X_test, y_test)\n",
    "        #y_pred = lm.predict(X_test)\n",
    "        #r_squared2 = metrics.r2_score(y_test, y_pred)\n",
    "\n",
    "        logging.info('rsquared: {}'.format(r_squared)) #, r_squared2))\n",
    "        logging.info('num skipped countries: {}'.format(len(skipped_countries)))\n",
    "        logging.info('num training countries: {}'.format(len(X_train)))\n",
    "        logging.info('num testing countries: {}'.format(len(X_test)))\n",
    "\n",
    "        # Store results\n",
    "        results[ds_id] = {\n",
    "            'r_squared': r_squared,\n",
    "            'skipped_countries': skipped_countries\n",
    "        }\n",
    "        \n",
    "        if r_squared > .02:\n",
    "            results[ds_id]['data_x'] = data_x\n",
    "            results[ds_id]['data_y'] = data_y\n",
    "            \n",
    "    return results    "
   ]
  },
  {
   "cell_type": "code",
   "execution_count": null,
   "metadata": {
    "collapsed": false
   },
   "outputs": [],
   "source": [
    "DATAX = pd.read_csv('/Users/nathansuberi/Documents/GitHub/nsuberi.github.io/Compass Degrees for Summary Period.csv')\n",
    "kwargs = {\n",
    "    'datax': DATAX,\n",
    "    'xname':'compass of divergence',\n",
    "    'xyear': None,\n",
    "    'xval_col': 'prod_degree',\n",
    "    'xcountry_col': 'country',\n",
    "    'datay_from_rwapi': annual_national_datasets[annual_national_datasets['analysis_possible']==True],\n",
    "    'ystartyear': 2000,\n",
    "    'yendyear': 2015,\n",
    "    'test_size':30\n",
    "}\n",
    "\n",
    "regression_results = run_linear_regressions(**kwargs)"
   ]
  },
  {
   "cell_type": "code",
   "execution_count": null,
   "metadata": {
    "collapsed": true
   },
   "outputs": [],
   "source": [
    "#logging.info('Number of regressions attempted: {}'.format(len(regression_results)))\n",
    "#logging.info('Results: {}'.format(regression_results))\n",
    "\n",
    "def pick_not_null(d):\n",
    "    new_d = dict()\n",
    "    for key, vals in d.items():\n",
    "        if vals['r_squared']:\n",
    "            new_d[key] = vals\n",
    "    return new_d\n",
    "\n",
    "notnull_results = pick_not_null(regression_results)\n",
    "\n",
    "\n",
    "sorted_results = sorted(notnull_results.items(), \n",
    "                        key=lambda res: res[1]['r_squared'], \n",
    "                        reverse=True)\n",
    "             \n",
    "# Only keep non-perfect correlations, \n",
    "# and ones for which no more than 10 countries are skipped\n",
    "filterd_sorted_results = [res for res in sorted_results if \n",
    "                  (res[1]['r_squared'] < 1) and \n",
    "                  (len(res[1]['skipped_countries']) < 40) ]\n",
    "\n",
    "filterd_sorted_results"
   ]
  },
  {
   "cell_type": "code",
   "execution_count": null,
   "metadata": {
    "collapsed": true
   },
   "outputs": [],
   "source": [
    "analyse_these.loc['37d04efc-0ab2-4499-a891-54dca1013c74']"
   ]
  },
  {
   "cell_type": "markdown",
   "metadata": {},
   "source": [
    "# Upload the results to Carto and RW API"
   ]
  },
  {
   "cell_type": "markdown",
   "metadata": {},
   "source": [
    "## Authenticate to Carto"
   ]
  },
  {
   "cell_type": "code",
   "execution_count": 5,
   "metadata": {
    "collapsed": false
   },
   "outputs": [],
   "source": [
    "CARTO_USER = 'wri-rw'\n",
    "CARTO_KEY = os.environ.get('CARTO_KEY', None)\n",
    "\n",
    "cc = cartoframes.CartoContext(base_url='https://{}.carto.com/'.format(CARTO_USER),\n",
    "                              api_key=CARTO_KEY)"
   ]
  },
  {
   "cell_type": "markdown",
   "metadata": {},
   "source": [
    "## Format and upload table"
   ]
  },
  {
   "cell_type": "code",
   "execution_count": 7,
   "metadata": {
    "collapsed": false
   },
   "outputs": [],
   "source": [
    "x = filterd_sorted_results[0][1]['data_x'].values\n",
    "y = filterd_sorted_results[0][1]['data_y'].values\n",
    "df = pd.DataFrame({'x':x, 'y':y})\n",
    "cc.write(df, 'com_xxx_ghg_gdp_highest_correlated_results', overwrite=True)"
   ]
  },
  {
   "cell_type": "markdown",
   "metadata": {},
   "source": [
    "### Temporary - display results with matplotlib"
   ]
  },
  {
   "cell_type": "code",
   "execution_count": 8,
   "metadata": {
    "collapsed": false
   },
   "outputs": [],
   "source": [
    "data = cc.read('com_xxx_ghg_gdp_highest_correlated_results')"
   ]
  },
  {
   "cell_type": "code",
   "execution_count": 9,
   "metadata": {
    "collapsed": false
   },
   "outputs": [
    {
     "data": {
      "text/plain": [
       "<matplotlib.text.Text at 0x10e658048>"
      ]
     },
     "execution_count": 9,
     "metadata": {},
     "output_type": "execute_result"
    },
    {
     "data": {
      "image/png": "[encoded data removed]",
      "text/plain": [
       "<matplotlib.figure.Figure at 0x10ddaf5c0>"
      ]
     },
     "metadata": {},
     "output_type": "display_data"
    }
   ],
   "source": [
    "data = data[['x', 'y']]\n",
    "plt.scatter(data['x'], data['y'])\n",
    "plt.ylabel('Percent Change in Access to Improved Sanitation from 2000-2015')\n",
    "plt.xlabel('Compass Degree of Divergence from 2000-2015')"
   ]
  },
  {
   "cell_type": "markdown",
   "metadata": {},
   "source": [
    "# Configure the vega chart output, which can be uploaded to the RW API"
   ]
  },
  {
   "cell_type": "markdown",
   "metadata": {},
   "source": [
    "### TO DO - make this actually work"
   ]
  },
  {
   "cell_type": "code",
   "execution_count": null,
   "metadata": {
    "collapsed": true
   },
   "outputs": [],
   "source": [
    "Config=''.join([\n",
    "    \"{\\n\",\n",
    "    \"  \\\"range\\\": {\\n\",\n",
    "    \"    \\\"dotSize\\\": [20, 250],\\n\",\n",
    "    \"    \\\"category\\\": [\\n\",\n",
    "    \"      \\\"#3BB2D0\\\",\\n\",\n",
    "    \"      \\\"#2C75B0\\\",\\n\",\n",
    "    \"      \\\"#FAB72E\\\",\\n\",\n",
    "    \"      \\\"#EF4848\\\",\\n\",\n",
    "    \"      \\\"#65B60D\\\",\\n\",\n",
    "    \"      \\\"#717171\\\"\\n\",\n",
    "    \"    ],\\n\",\n",
    "    \"    \\\"category20\\\": [\\n\",\n",
    "    \"      \\\"#3BB2D0\\\",\\n\",\n",
    "    \"      \\\"#2C75B0\\\",\\n\",\n",
    "    \"      \\\"#FAB72E\\\",\\n\",\n",
    "    \"      \\\"#EF4848\\\",\\n\",\n",
    "    \"      \\\"#65B60D\\\",\\n\",\n",
    "    \"      \\\"#C32D7B\\\",\\n\",\n",
    "    \"      \\\"#F577B9\\\",\\n\",\n",
    "    \"      \\\"#5FD2B8\\\",\\n\",\n",
    "    \"      \\\"#F1800F\\\",\\n\",\n",
    "    \"      \\\"#9F1C00\\\",\\n\",\n",
    "    \"      \\\"#A5E9E3\\\",\\n\",\n",
    "    \"      \\\"#B9D765\\\",\\n\",\n",
    "    \"      \\\"#393F44\\\",\\n\",\n",
    "    \"      \\\"#CACCD0\\\",\\n\",\n",
    "    \"      \\\"#717171\\\"\\n\",\n",
    "    \"    ],\\n\",\n",
    "    \"    \\\"ordinal\\\": { \\\"scheme\\\": \\\"greens\\\" },\\n\",\n",
    "    \"    \\\"ramp\\\": { \\\"scheme\\\": \\\"purples\\\" }\\n\",\n",
    "    \"  },\\n\",\n",
    "    \"  \\\"axis\\\": {\\n\",\n",
    "    \"    \\\"labelFontSize\\\": 13,\\n\",\n",
    "    \"    \\\"labelFont\\\": \\\"Lato\\\",\\n\",\n",
    "    \"    \\\"labelColor\\\": \\\"#717171\\\",\\n\",\n",
    "    \"    \\\"labelPadding\\\": 10,\\n\",\n",
    "    \"    \\\"ticks\\\": true,\\n\",\n",
    "    \"    \\\"tickSize\\\": 5,\\n\",\n",
    "    \"    \\\"tickColor\\\": \\\"#A9ABAD\\\",\\n\",\n",
    "    \"    \\\"tickOpacity\\\": 0.5,\\n\",\n",
    "    \"    \\\"tickExtra\\\": false\\n\",\n",
    "    \"  },\\n\",\n",
    "    \"  \\\"axisX\\\": {\\n\",\n",
    "    \"    \\\"bandPosition\\\": 0.5,\\n\",\n",
    "    \"    \\\"domainWidth\\\": 1.2,\\n\",\n",
    "    \"    \\\"domainColor\\\": \\\"#A9ABAD\\\",\\n\",\n",
    "    \"    \\\"labelAlign\\\": \\\"center\\\",\\n\",\n",
    "    \"    \\\"labelBaseline\\\": \\\"top\\\"\\n\",\n",
    "    \"  },\\n\",\n",
    "    \"  \\\"axisY\\\": {\\n\",\n",
    "    \"    \\\"domain\\\": false,\\n\",\n",
    "    \"    \\\"labelAlign\\\": \\\"left\\\",\\n\",\n",
    "    \"    \\\"labelBaseline\\\": \\\"bottom\\\",\\n\",\n",
    "    \"    \\\"tickOpacity\\\": 0.5,\\n\",\n",
    "    \"    \\\"grid\\\": true,\\n\",\n",
    "    \"    \\\"ticks\\\": false,\\n\",\n",
    "    \"    \\\"gridColor\\\": \\\"#A9ABAD\\\",\\n\",\n",
    "    \"    \\\"gridOpacity\\\": 0.5\\n\",\n",
    "    \"  },\\n\",\n",
    "    \"  \\\"mark\\\": {\\n\",\n",
    "    \"    \\\"fill\\\": \\\"#3BB2D0\\\"\\n\",\n",
    "    \"  },\\n\",\n",
    "    \"  \\\"symbol\\\": {\\n\",\n",
    "    \"    \\\"fill\\\": \\\"#3BB2D0\\\",\\n\",\n",
    "    \"    \\\"stroke\\\": \\\"#fff\\\"\\n\",\n",
    "    \"  },\\n\",\n",
    "    \"  \\\"rect\\\": {\\n\",\n",
    "    \"    \\\"cornerRadius\\\": 0.3,\\n\",\n",
    "    \"    \\\"fill\\\": \\\"#3BB2D0\\\"\\n\",\n",
    "    \"  },\\n\",\n",
    "    \"  \\\"line\\\": {\\n\",\n",
    "    \"    \\\"interpolate\\\": \\\"linear\\\",\\n\",\n",
    "    \"    \\\"stroke\\\": \\\"#3BB2D0\\\",\\n\",\n",
    "    \"    \\\"fillOpacity\\\": 0\\n\",\n",
    "    \"  }\\n\",\n",
    "    \"}\\n\"])"
   ]
  },
  {
   "cell_type": "code",
   "execution_count": null,
   "metadata": {
    "collapsed": false
   },
   "outputs": [],
   "source": [
    "specV3 = json.loads(''.join([\"{\\n\",\n",
    "    \"  \\\"autosize\\\": {\\n\",\n",
    "    \"    \\\"type\\\": \\\"pad\\\",\\n\",\n",
    "    \"    \\\"resize\\\": true,\\n\",\n",
    "    \"    \\\"contains\\\": \\\"padding\\\"\\n\",\n",
    "    \"  },\\n\",\n",
    "    \"  \\\"data\\\": [\\n\",\n",
    "    \"    {\\n\",\n",
    "    \"      \\\"name\\\": \\\"table\\\",\\n\",\n",
    "    \"      \\\"url\\\": \\\"https://wri-rw.carto.com/api/v2/sql?q=SELECT x, y FROM com_xxx_ghg_gdp_highest_correlated_results\\\",\\n\",\n",
    "    \"      \\\"format\\\": {\\n\",\n",
    "    \"        \\\"type\\\": \\\"json\\\",\\n\",\n",
    "    \"        \\\"property\\\": \\\"rows\\\"\\n\",\n",
    "    \"      },\\n\",\n",
    "    \"      \\\"transform\\\": [\\n\",\n",
    "    \"        {\\n\",\n",
    "    \"          \\\"type\\\": \\\"window\\\",\\n\",\n",
    "    \"          \\\"sort\\\": {\\n\",\n",
    "    \"            \\\"field\\\": \\\"x\\\",\\n\",\n",
    "    \"            \\\"order\\\": \\\"ascending\\\"\\n\",\n",
    "    \"          }\\n\",\n",
    "    \"        }\\n\",\n",
    "    \"      ]\\n\",\n",
    "    \"    }\\n\",\n",
    "    \"  ],\\n\",\n",
    "    \"  \\\"scales\\\": [\\n\",\n",
    "    \"    {\\n\",\n",
    "    \"      \\\"name\\\": \\\"x\\\",\\n\",\n",
    "    \"      \\\"type\\\": \\\"band\\\",\\n\",\n",
    "    \"      \\\"domain\\\": {\\n\",\n",
    "    \"        \\\"data\\\": \\\"table\\\",\\n\",\n",
    "    \"        \\\"field\\\": \\\"x\\\"\\n\",\n",
    "    \"      },\\n\",\n",
    "    \"      \\\"range\\\": \\\"width\\\",\\n\",\n",
    "    \"      \\\"padding\\\": 0.05,\\n\",\n",
    "    \"      \\\"round\\\": true\\n\",\n",
    "    \"    },\\n\",\n",
    "    \"    {\\\"type\\\": \\\"linear\\\",\\n\",\n",
    "    \"      \\\"name\\\": \\\"y\\\",\\n\",\n",
    "    \"      \\\"domain\\\": {\\n\",\n",
    "    \"        \\\"data\\\": \\\"table\\\",\\n\",\n",
    "    \"        \\\"field\\\": \\\"y\\\"\\n\",\n",
    "    \"      },\\n\",\n",
    "    \"      \\\"nice\\\": true,\\n\",\n",
    "    \"      \\\"range\\\": \\\"height\\\"\\n\",\n",
    "    \"    }\\n\",\n",
    "    \"  ],\\n\",\n",
    "    \"  \\\"axes\\\": [\\n\",\n",
    "    \"    {\\n\",\n",
    "    \"      \\\"orient\\\": \\\"bottom\\\",\\n\",\n",
    "    \"      \\\"scale\\\": \\\"x\\\",\\n\",\n",
    "    \"      \\\"labelOverlap\\\":\\\"parity\\\",\\n\",\n",
    "    \"      \\\"encode\\\": {\\n\",\n",
    "    \"        \\\"labels\\\": {\\n\",\n",
    "    \"          \\\"update\\\": {\\n\",\n",
    "    \"            \\\"angle\\\": {\\n\",\n",
    "    \"              \\\"value\\\": 90\\n\",\n",
    "    \"            },\\n\",\n",
    "    \"            \\\"align\\\": {\\n\",\n",
    "    \"              \\\"value\\\": \\\"left\\\"\\n\",\n",
    "    \"            },\\n\",\n",
    "    \"            \\\"baseline\\\": {\\n\",\n",
    "    \"              \\\"value\\\": \\\"middle\\\"\\n\",\n",
    "    \"            }\\n\",\n",
    "    \"          }\\n\",\n",
    "    \"        }\\n\",\n",
    "    \"      }\\n\",\n",
    "    \"    },\\n\",\n",
    "    \"    {\\n\",\n",
    "    \"      \\\"orient\\\": \\\"left\\\",\\n\",\n",
    "    \"      \\\"labelOverlap\\\":\\\"parity\\\",\\n\",\n",
    "    \"      \\\"scale\\\": \\\"y\\\",\\n\",\n",
    "    \"      \\\"format\\\": \\\"2s\\\"\\n\",\n",
    "    \"    }\\n\",\n",
    "    \"  ],\\n\",\n",
    "    \"  \\\"marks\\\": [\\n\",\n",
    "    \"    {\\n\",\n",
    "    \"      \\\"type\\\": \\\"rect\\\",\\n\",\n",
    "    \"      \\\"from\\\": {\\n\",\n",
    "    \"        \\\"data\\\": \\\"table\\\"\\n\",\n",
    "    \"      },\\n\",\n",
    "    \"      \\\"encode\\\": {\\n\",\n",
    "    \"        \\\"enter\\\": {\\n\",\n",
    "    \"          \\\"x\\\": {\\n\",\n",
    "    \"            \\\"scale\\\": \\\"x\\\",\\n\",\n",
    "    \"            \\\"field\\\": \\\"x\\\"\\n\",\n",
    "    \"          },\\n\",\n",
    "    \"          \\\"width\\\": {\\n\",\n",
    "    \"            \\\"scale\\\": \\\"x\\\",\\n\",\n",
    "    \"            \\\"band\\\": 1\\n\",\n",
    "    \"          },\\n\",\n",
    "    \"          \\\"y\\\": {\\n\",\n",
    "    \"            \\\"scale\\\": \\\"y\\\",\\n\",\n",
    "    \"            \\\"field\\\": \\\"y\\\"\\n\",\n",
    "    \"          },\\n\",\n",
    "    \"          \\\"y2\\\": {\\n\",\n",
    "    \"            \\\"scale\\\": \\\"y\\\",\\n\",\n",
    "    \"            \\\"value\\\": 0\\n\",\n",
    "    \"          }\\n\",\n",
    "    \"        },\\n\",\n",
    "    \"        \\\"update\\\": {\\n\",\n",
    "    \"          \\\"opacity\\\": {\\n\",\n",
    "    \"            \\\"value\\\": 1\\n\",\n",
    "    \"          }\\n\",\n",
    "    \"        },\\n\",\n",
    "    \"        \\\"hover\\\": {\\n\",\n",
    "    \"          \\\"opacity\\\": {\\n\",\n",
    "    \"            \\\"value\\\": 0.8\\n\",\n",
    "    \"          }\\n\",\n",
    "    \"        }\\n\",\n",
    "    \"      }\\n\",\n",
    "    \"    }\\n\",\n",
    "    \"  ]\\n\",\n",
    "    \"}\"]))\n",
    "                  \n",
    "vega4view = dict(specV3)\n",
    "vega4view['config']=json.loads(Config)\n",
    "vega4view['width']=300\n",
    "vega4view['height']=200\n",
    "Vega(vega4view)"
   ]
  }
 ],
 "metadata": {
  "kernelspec": {
   "display_name": "Python 3",
   "language": "python",
   "name": "python3"
  },
  "language_info": {
   "codemirror_mode": {
    "name": "ipython",
    "version": 3
   },
   "file_extension": ".py",
   "mimetype": "text/x-python",
   "name": "python",
   "nbconvert_exporter": "python",
   "pygments_lexer": "ipython3",
   "version": "3.6.0"
  }
 },
 "nbformat": 4,
 "nbformat_minor": 2
}
