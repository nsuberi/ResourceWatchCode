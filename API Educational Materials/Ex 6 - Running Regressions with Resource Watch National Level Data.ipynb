{
 "cells": [
  {
   "cell_type": "markdown",
   "metadata": {},
   "source": [
    "# Import Libraries"
   ]
  },
  {
   "cell_type": "code",
   "execution_count": null,
   "metadata": {
    "collapsed": true
   },
   "outputs": [],
   "source": [
    "# Data fetching library\n",
    "import requests as req\n",
    "# used below: 'res' stands for 'response'\n",
    "\n",
    "# File management library\n",
    "import os\n",
    "\n",
    "# Configure logging library\n",
    "import logging\n",
    "import sys\n",
    "logging.basicConfig(stream=sys.stderr, level=logging.INFO)\n",
    "\n",
    "# Data manipulation libraries\n",
    "import pandas as pd\n",
    "pd.options.display.max_rows = 1000\n",
    "pd.options.display.max_columns = 1000\n",
    "import json\n",
    "\n",
    "# Uploading results to Carto\n",
    "\n",
    "\n",
    "# Data visualization library\n",
    "## Uses Vega-Lite, which can be easily put in websites\n",
    "from vega3 import Vega"
   ]
  },
  {
   "cell_type": "markdown",
   "metadata": {},
   "source": [
    "# Load Data from RW API"
   ]
  },
  {
   "cell_type": "code",
   "execution_count": null,
   "metadata": {
    "collapsed": false
   },
   "outputs": [],
   "source": [
    "# Base URL for getting dataset metadata from RW API\n",
    "url = \"https://api.resourcewatch.org/v1/dataset?sort=slug,-provider,userId&status=saved&published=true&includes=metadata,vocabulary,widget,layer\"\n",
    "\n",
    "# page[size] tells the API the maximum number of results to send back\n",
    "# There are currently between 200 and 300 datasets on the RW API\n",
    "payload = { \"application\":\"rw\", \"page[size]\": 1000}\n",
    "\n",
    "# Request all datasets, and extract the data from the response\n",
    "res = req.get(url, params=payload)\n",
    "data = res.json()[\"data\"]\n",
    "\n",
    "### Convert the json object returned by the API into a pandas DataFrame\n",
    "# Another option: https://pandas.pydata.org/pandas-docs/stable/generated/pandas.io.json.json_normalize.html\n",
    "datasets_on_api = {}\n",
    "for ix, dset in enumerate(data):\n",
    "    atts = dset[\"attributes\"]\n",
    "    metadata = atts[\"metadata\"]\n",
    "    layers = atts[\"layer\"]\n",
    "    widgets = atts[\"widget\"]\n",
    "    tags = atts[\"vocabulary\"]\n",
    "    datasets_on_api[dset[\"id\"]] = {\n",
    "        \"name\":atts[\"name\"],\n",
    "        \"table_name\":atts[\"tableName\"],\n",
    "        \"provider\":atts[\"provider\"],\n",
    "        \"date_updated\":atts[\"updatedAt\"],\n",
    "        \"num_metadata\":len(metadata),\n",
    "        \"metadata\": metadata,\n",
    "        \"num_layers\":len(layers),\n",
    "        \"layers\": layers,\n",
    "        \"num_widgets\":len(widgets),\n",
    "        \"widgets\": widgets,\n",
    "        \"num_tags\":len(tags),\n",
    "        \"tags\":tags\n",
    "    }\n",
    "\n",
    "# Create the DataFrame, name the index, and sort by date_updated\n",
    "# More recently updated datasets at the top\n",
    "current_datasets_on_api = pd.DataFrame.from_dict(datasets_on_api, orient='index')\n",
    "current_datasets_on_api.index.rename(\"Dataset\", inplace=True)\n",
    "current_datasets_on_api.sort_values(by=[\"date_updated\"], inplace=True, ascending = False)\n",
    "\n",
    "# Select all Carto datasets on the API:\n",
    "provider = \"cartodb\"\n",
    "carto_ids = (current_datasets_on_api[\"provider\"]==provider)\n",
    "carto_data = current_datasets_on_api.loc[carto_ids]\n",
    "\n",
    "logging.info(\"Number of Carto datasets: \" + str(carto_data.shape[0]))"
   ]
  },
  {
   "cell_type": "markdown",
   "metadata": {},
   "source": [
    "# Find data sets to run the analysis with"
   ]
  },
  {
   "cell_type": "code",
   "execution_count": null,
   "metadata": {
    "collapsed": false
   },
   "outputs": [],
   "source": [
    "# Select only national level data sets\n",
    "\n",
    "def pick_spatial_resolution(mdatas):\n",
    "    for mdata in mdatas:\n",
    "        if mdata['attributes']['language'] == 'en':\n",
    "            return mdata['attributes']['info'].get('spatial_resolution', None)\n",
    "\n",
    "def pick_temporal_resolution(mdatas):\n",
    "    for mdata in mdatas:\n",
    "        if mdata['attributes']['language'] == 'en':\n",
    "            return mdata['attributes']['info'].get('frequency_of_updates', None)\n",
    "        \n",
    "carto_data.loc[:,'spatial_resolution'] = list(map(pick_spatial_resolution, carto_data['metadata']))\n",
    "carto_data.loc[:,'temporal_resolution'] = list(map(pick_temporal_resolution, carto_data['metadata']))\n",
    "\n",
    "national_datasets = carto_data[carto_data['spatial_resolution'] == 'National']\n",
    "annual_national_datasets = national_datasets[national_datasets['temporal_resolution'] == 'Annual']\n",
    "\n",
    "logging.info(\"{} annual, national level data sets\".format(annual_national_datasets.shape[0]))\n",
    "annual_national_datasets.shape"
   ]
  },
  {
   "cell_type": "markdown",
   "metadata": {},
   "source": [
    "## Find which data sets cover the right years and are \"simple\""
   ]
  },
  {
   "cell_type": "markdown",
   "metadata": {},
   "source": [
    "### Find year column"
   ]
  },
  {
   "cell_type": "code",
   "execution_count": null,
   "metadata": {
    "collapsed": false
   },
   "outputs": [],
   "source": [
    "def inquire_columns(info):\n",
    "    ds_id, table_name = info\n",
    "    print(ds_id)\n",
    "    # Template query string used to query RW datasets\n",
    "    q = \"https://api.resourcewatch.org/v1/query/{}?sql=SELECT * FROM {} LIMIT 1\".format(ds_id,table_name)\n",
    "    print(q)\n",
    "    try:\n",
    "        return req.get(q).json()['data'][0].keys()\n",
    "    except:\n",
    "        return None\n",
    "    \n",
    "# Collect column names\n",
    "annual_national_datasets.loc[:, 'column_names'] = list(map(inquire_columns, zip(annual_national_datasets.index,annual_national_datasets['table_name'])))"
   ]
  },
  {
   "cell_type": "code",
   "execution_count": null,
   "metadata": {
    "collapsed": false
   },
   "outputs": [],
   "source": [
    "def pick_year_col(column_names):\n",
    "    print(\"Available column names: {}\".format(column_names))\n",
    "    year_col = input(\"What is the year column called? Type nothing for None\")\n",
    "    return year_col if year_col else None\n",
    "\n",
    "annual_national_datasets.loc[:, 'year_col'] = list(map(pick_year_col, annual_national_datasets['column_names']))"
   ]
  },
  {
   "cell_type": "code",
   "execution_count": null,
   "metadata": {
    "collapsed": false
   },
   "outputs": [],
   "source": [
    "annual_national_datasets['year_col']"
   ]
  },
  {
   "cell_type": "markdown",
   "metadata": {},
   "source": [
    "### Find dates covered by each dataset"
   ]
  },
  {
   "cell_type": "code",
   "execution_count": null,
   "metadata": {
    "collapsed": false
   },
   "outputs": [],
   "source": [
    "def try_datetime_conversion_to_year(possible_dt):\n",
    "    DATE_FORMAT = '%Y-%m-%dT%H:%M:%SZ'\n",
    "    try:\n",
    "        return datetime.strptime(possible_dt, DATE_FORMAT).year\n",
    "    except:\n",
    "        return int(possible_dt)\n",
    "\n",
    "def find_years_covered(info):\n",
    "    ds_id, year_col, table_name = info\n",
    "    if year_col:\n",
    "        print(ds_id)\n",
    "        # Template query string used to query RW datasets\n",
    "        q = \"https://api.resourcewatch.org/v1/query/{}?sql=SELECT {} FROM {}\".format(ds_id,year_col,table_name)\n",
    "        print(q)\n",
    "        try:\n",
    "            res = pd.DataFrame(req.get(q).json()['data'])\n",
    "            unique_years = res[year_col].unique()\n",
    "            int_years = list(map(try_datetime_conversion_to_year, unique_years))\n",
    "            return int_years\n",
    "        except:\n",
    "            return None\n",
    "    else:\n",
    "        return None\n",
    "    \n",
    "    \n",
    "annual_national_datasets['years_covered'] = list(map(find_years_covered, zip(annual_national_datasets.index, annual_national_datasets['year_col'], annual_national_datasets['table_name'])))"
   ]
  },
  {
   "cell_type": "code",
   "execution_count": null,
   "metadata": {
    "collapsed": false
   },
   "outputs": [],
   "source": [
    "annual_national_datasets['years_covered']"
   ]
  },
  {
   "cell_type": "markdown",
   "metadata": {},
   "source": [
    "### Pick the value column to use"
   ]
  },
  {
   "cell_type": "code",
   "execution_count": null,
   "metadata": {
    "collapsed": true
   },
   "outputs": [],
   "source": []
  },
  {
   "cell_type": "markdown",
   "metadata": {},
   "source": [
    "### Determine whether any filter on an additional column is needed (i.e. MFA data would need to be filtered by mfa13 category)"
   ]
  },
  {
   "cell_type": "code",
   "execution_count": null,
   "metadata": {
    "collapsed": true
   },
   "outputs": [],
   "source": []
  },
  {
   "cell_type": "markdown",
   "metadata": {},
   "source": [
    "# Run the analysis"
   ]
  },
  {
   "cell_type": "code",
   "execution_count": null,
   "metadata": {
    "collapsed": true
   },
   "outputs": [],
   "source": []
  },
  {
   "cell_type": "markdown",
   "metadata": {},
   "source": [
    "# Upload the results to Carto and RW API"
   ]
  },
  {
   "cell_type": "code",
   "execution_count": null,
   "metadata": {
    "collapsed": true
   },
   "outputs": [],
   "source": []
  },
  {
   "cell_type": "markdown",
   "metadata": {},
   "source": [
    "# Configure the vega chart output, which can be uploaded to the RW API"
   ]
  },
  {
   "cell_type": "code",
   "execution_count": null,
   "metadata": {
    "collapsed": true
   },
   "outputs": [],
   "source": [
    "Config=''.join([\n",
    "    \"{\\n\",\n",
    "    \"  \\\"range\\\": {\\n\",\n",
    "    \"    \\\"dotSize\\\": [20, 250],\\n\",\n",
    "    \"    \\\"category\\\": [\\n\",\n",
    "    \"      \\\"#3BB2D0\\\",\\n\",\n",
    "    \"      \\\"#2C75B0\\\",\\n\",\n",
    "    \"      \\\"#FAB72E\\\",\\n\",\n",
    "    \"      \\\"#EF4848\\\",\\n\",\n",
    "    \"      \\\"#65B60D\\\",\\n\",\n",
    "    \"      \\\"#717171\\\"\\n\",\n",
    "    \"    ],\\n\",\n",
    "    \"    \\\"category20\\\": [\\n\",\n",
    "    \"      \\\"#3BB2D0\\\",\\n\",\n",
    "    \"      \\\"#2C75B0\\\",\\n\",\n",
    "    \"      \\\"#FAB72E\\\",\\n\",\n",
    "    \"      \\\"#EF4848\\\",\\n\",\n",
    "    \"      \\\"#65B60D\\\",\\n\",\n",
    "    \"      \\\"#C32D7B\\\",\\n\",\n",
    "    \"      \\\"#F577B9\\\",\\n\",\n",
    "    \"      \\\"#5FD2B8\\\",\\n\",\n",
    "    \"      \\\"#F1800F\\\",\\n\",\n",
    "    \"      \\\"#9F1C00\\\",\\n\",\n",
    "    \"      \\\"#A5E9E3\\\",\\n\",\n",
    "    \"      \\\"#B9D765\\\",\\n\",\n",
    "    \"      \\\"#393F44\\\",\\n\",\n",
    "    \"      \\\"#CACCD0\\\",\\n\",\n",
    "    \"      \\\"#717171\\\"\\n\",\n",
    "    \"    ],\\n\",\n",
    "    \"    \\\"ordinal\\\": { \\\"scheme\\\": \\\"greens\\\" },\\n\",\n",
    "    \"    \\\"ramp\\\": { \\\"scheme\\\": \\\"purples\\\" }\\n\",\n",
    "    \"  },\\n\",\n",
    "    \"  \\\"axis\\\": {\\n\",\n",
    "    \"    \\\"labelFontSize\\\": 13,\\n\",\n",
    "    \"    \\\"labelFont\\\": \\\"Lato\\\",\\n\",\n",
    "    \"    \\\"labelColor\\\": \\\"#717171\\\",\\n\",\n",
    "    \"    \\\"labelPadding\\\": 10,\\n\",\n",
    "    \"    \\\"ticks\\\": true,\\n\",\n",
    "    \"    \\\"tickSize\\\": 5,\\n\",\n",
    "    \"    \\\"tickColor\\\": \\\"#A9ABAD\\\",\\n\",\n",
    "    \"    \\\"tickOpacity\\\": 0.5,\\n\",\n",
    "    \"    \\\"tickExtra\\\": false\\n\",\n",
    "    \"  },\\n\",\n",
    "    \"  \\\"axisX\\\": {\\n\",\n",
    "    \"    \\\"bandPosition\\\": 0.5,\\n\",\n",
    "    \"    \\\"domainWidth\\\": 1.2,\\n\",\n",
    "    \"    \\\"domainColor\\\": \\\"#A9ABAD\\\",\\n\",\n",
    "    \"    \\\"labelAlign\\\": \\\"center\\\",\\n\",\n",
    "    \"    \\\"labelBaseline\\\": \\\"top\\\"\\n\",\n",
    "    \"  },\\n\",\n",
    "    \"  \\\"axisY\\\": {\\n\",\n",
    "    \"    \\\"domain\\\": false,\\n\",\n",
    "    \"    \\\"labelAlign\\\": \\\"left\\\",\\n\",\n",
    "    \"    \\\"labelBaseline\\\": \\\"bottom\\\",\\n\",\n",
    "    \"    \\\"tickOpacity\\\": 0.5,\\n\",\n",
    "    \"    \\\"grid\\\": true,\\n\",\n",
    "    \"    \\\"ticks\\\": false,\\n\",\n",
    "    \"    \\\"gridColor\\\": \\\"#A9ABAD\\\",\\n\",\n",
    "    \"    \\\"gridOpacity\\\": 0.5\\n\",\n",
    "    \"  },\\n\",\n",
    "    \"  \\\"mark\\\": {\\n\",\n",
    "    \"    \\\"fill\\\": \\\"#3BB2D0\\\"\\n\",\n",
    "    \"  },\\n\",\n",
    "    \"  \\\"symbol\\\": {\\n\",\n",
    "    \"    \\\"fill\\\": \\\"#3BB2D0\\\",\\n\",\n",
    "    \"    \\\"stroke\\\": \\\"#fff\\\"\\n\",\n",
    "    \"  },\\n\",\n",
    "    \"  \\\"rect\\\": {\\n\",\n",
    "    \"    \\\"cornerRadius\\\": 0.3,\\n\",\n",
    "    \"    \\\"fill\\\": \\\"#3BB2D0\\\"\\n\",\n",
    "    \"  },\\n\",\n",
    "    \"  \\\"line\\\": {\\n\",\n",
    "    \"    \\\"interpolate\\\": \\\"linear\\\",\\n\",\n",
    "    \"    \\\"stroke\\\": \\\"#3BB2D0\\\",\\n\",\n",
    "    \"    \\\"fillOpacity\\\": 0\\n\",\n",
    "    \"  }\\n\",\n",
    "    \"}\\n\"])"
   ]
  },
  {
   "cell_type": "code",
   "execution_count": null,
   "metadata": {
    "collapsed": false
   },
   "outputs": [],
   "source": [
    "specV3 = json.loads(''.join([\"{\\n\",\n",
    "    \"  \\\"autosize\\\": {\\n\",\n",
    "    \"    \\\"type\\\": \\\"pad\\\",\\n\",\n",
    "    \"    \\\"resize\\\": true,\\n\",\n",
    "    \"    \\\"contains\\\": \\\"padding\\\"\\n\",\n",
    "    \"  },\\n\",\n",
    "    \"  \\\"data\\\": [\\n\",\n",
    "    \"    {\\n\",\n",
    "    \"      \\\"name\\\": \\\"table\\\",\\n\",\n",
    "    \"      \\\"url\\\": \\\"https://wri-rw.carto.com/api/v2/sql?q=SELECT year as x, bleached_area as y FROM sotp_bleaching_alerts ORDER  BY year\\\",\\n\",\n",
    "    \"      \\\"format\\\": {\\n\",\n",
    "    \"        \\\"type\\\": \\\"json\\\",\\n\",\n",
    "    \"        \\\"property\\\": \\\"rows\\\"\\n\",\n",
    "    \"      },\\n\",\n",
    "    \"      \\\"transform\\\": [\\n\",\n",
    "    \"        {\\n\",\n",
    "    \"          \\\"type\\\": \\\"window\\\",\\n\",\n",
    "    \"          \\\"sort\\\": {\\n\",\n",
    "    \"            \\\"field\\\": \\\"x\\\",\\n\",\n",
    "    \"            \\\"order\\\": \\\"ascending\\\"\\n\",\n",
    "    \"          }\\n\",\n",
    "    \"        }\\n\",\n",
    "    \"      ]\\n\",\n",
    "    \"    }\\n\",\n",
    "    \"  ],\\n\",\n",
    "    \"  \\\"scales\\\": [\\n\",\n",
    "    \"    {\\n\",\n",
    "    \"      \\\"name\\\": \\\"x\\\",\\n\",\n",
    "    \"      \\\"type\\\": \\\"band\\\",\\n\",\n",
    "    \"      \\\"domain\\\": {\\n\",\n",
    "    \"        \\\"data\\\": \\\"table\\\",\\n\",\n",
    "    \"        \\\"field\\\": \\\"x\\\"\\n\",\n",
    "    \"      },\\n\",\n",
    "    \"      \\\"range\\\": \\\"width\\\",\\n\",\n",
    "    \"      \\\"padding\\\": 0.05,\\n\",\n",
    "    \"      \\\"round\\\": true\\n\",\n",
    "    \"    },\\n\",\n",
    "    \"    {\\\"type\\\": \\\"linear\\\",\\n\",\n",
    "    \"      \\\"name\\\": \\\"y\\\",\\n\",\n",
    "    \"      \\\"domain\\\": {\\n\",\n",
    "    \"        \\\"data\\\": \\\"table\\\",\\n\",\n",
    "    \"        \\\"field\\\": \\\"y\\\"\\n\",\n",
    "    \"      },\\n\",\n",
    "    \"      \\\"nice\\\": true,\\n\",\n",
    "    \"      \\\"range\\\": \\\"height\\\"\\n\",\n",
    "    \"    }\\n\",\n",
    "    \"  ],\\n\",\n",
    "    \"  \\\"axes\\\": [\\n\",\n",
    "    \"    {\\n\",\n",
    "    \"      \\\"orient\\\": \\\"bottom\\\",\\n\",\n",
    "    \"      \\\"scale\\\": \\\"x\\\",\\n\",\n",
    "    \"      \\\"labelOverlap\\\":\\\"parity\\\",\\n\",\n",
    "    \"      \\\"encode\\\": {\\n\",\n",
    "    \"        \\\"labels\\\": {\\n\",\n",
    "    \"          \\\"update\\\": {\\n\",\n",
    "    \"            \\\"angle\\\": {\\n\",\n",
    "    \"              \\\"value\\\": 90\\n\",\n",
    "    \"            },\\n\",\n",
    "    \"            \\\"align\\\": {\\n\",\n",
    "    \"              \\\"value\\\": \\\"left\\\"\\n\",\n",
    "    \"            },\\n\",\n",
    "    \"            \\\"baseline\\\": {\\n\",\n",
    "    \"              \\\"value\\\": \\\"middle\\\"\\n\",\n",
    "    \"            }\\n\",\n",
    "    \"          }\\n\",\n",
    "    \"        }\\n\",\n",
    "    \"      }\\n\",\n",
    "    \"    },\\n\",\n",
    "    \"    {\\n\",\n",
    "    \"      \\\"orient\\\": \\\"left\\\",\\n\",\n",
    "    \"      \\\"labelOverlap\\\":\\\"parity\\\",\\n\",\n",
    "    \"      \\\"scale\\\": \\\"y\\\",\\n\",\n",
    "    \"      \\\"format\\\": \\\"2s\\\"\\n\",\n",
    "    \"    }\\n\",\n",
    "    \"  ],\\n\",\n",
    "    \"  \\\"marks\\\": [\\n\",\n",
    "    \"    {\\n\",\n",
    "    \"      \\\"type\\\": \\\"rect\\\",\\n\",\n",
    "    \"      \\\"from\\\": {\\n\",\n",
    "    \"        \\\"data\\\": \\\"table\\\"\\n\",\n",
    "    \"      },\\n\",\n",
    "    \"      \\\"encode\\\": {\\n\",\n",
    "    \"        \\\"enter\\\": {\\n\",\n",
    "    \"          \\\"x\\\": {\\n\",\n",
    "    \"            \\\"scale\\\": \\\"x\\\",\\n\",\n",
    "    \"            \\\"field\\\": \\\"x\\\"\\n\",\n",
    "    \"          },\\n\",\n",
    "    \"          \\\"width\\\": {\\n\",\n",
    "    \"            \\\"scale\\\": \\\"x\\\",\\n\",\n",
    "    \"            \\\"band\\\": 1\\n\",\n",
    "    \"          },\\n\",\n",
    "    \"          \\\"y\\\": {\\n\",\n",
    "    \"            \\\"scale\\\": \\\"y\\\",\\n\",\n",
    "    \"            \\\"field\\\": \\\"y\\\"\\n\",\n",
    "    \"          },\\n\",\n",
    "    \"          \\\"y2\\\": {\\n\",\n",
    "    \"            \\\"scale\\\": \\\"y\\\",\\n\",\n",
    "    \"            \\\"value\\\": 0\\n\",\n",
    "    \"          }\\n\",\n",
    "    \"        },\\n\",\n",
    "    \"        \\\"update\\\": {\\n\",\n",
    "    \"          \\\"opacity\\\": {\\n\",\n",
    "    \"            \\\"value\\\": 1\\n\",\n",
    "    \"          }\\n\",\n",
    "    \"        },\\n\",\n",
    "    \"        \\\"hover\\\": {\\n\",\n",
    "    \"          \\\"opacity\\\": {\\n\",\n",
    "    \"            \\\"value\\\": 0.8\\n\",\n",
    "    \"          }\\n\",\n",
    "    \"        }\\n\",\n",
    "    \"      }\\n\",\n",
    "    \"    }\\n\",\n",
    "    \"  ]\\n\",\n",
    "    \"}\"]))\n",
    "                  \n",
    "vega4view = dict(specV3)\n",
    "vega4view['config']=json.loads(Config)\n",
    "vega4view['width']=300\n",
    "vega4view['height']=200\n",
    "Vega(vega4view)"
   ]
  }
 ],
 "metadata": {
  "kernelspec": {
   "display_name": "Python 3",
   "language": "python",
   "name": "python3"
  },
  "language_info": {
   "codemirror_mode": {
    "name": "ipython",
    "version": 3
   },
   "file_extension": ".py",
   "mimetype": "text/x-python",
   "name": "python",
   "nbconvert_exporter": "python",
   "pygments_lexer": "ipython3",
   "version": "3.6.0"
  }
 },
 "nbformat": 4,
 "nbformat_minor": 2
}
